{
 "cells": [
  {
   "cell_type": "code",
   "execution_count": 33,
   "id": "d5e55ebf",
   "metadata": {},
   "outputs": [],
   "source": [
    "import os\n",
    "# import sys\n",
    "# sys.path.append(os.path.dirname(os.path.dirname(os.path.abspath(__file__))))\n",
    "import pandas as pd\n",
    "import numpy as np\n",
    "import json\n",
    "# from config.settings.base import CAFE, DATA_DIR, CSV_DATA_PATH"
   ]
  },
  {
   "cell_type": "code",
   "execution_count": 39,
   "id": "5366aeb5",
   "metadata": {},
   "outputs": [],
   "source": [
    "df = pd.read_csv(os.path.join('/Users/dc/practice/recommendation/recomm_drf/data/csv/cafe', '종로구_카페 정보.csv'), sep=',')"
   ]
  },
  {
   "cell_type": "code",
   "execution_count": 40,
   "id": "d1aaae13",
   "metadata": {},
   "outputs": [
    {
     "name": "stdout",
     "output_type": "stream",
     "text": [
      "0      서울 종로구 종로2가 84-8\n",
      "1          서울 종로구 재동 86\n",
      "2       서울 종로구 계동 146-1\n",
      "3         서울 종로구 소격동 86\n",
      "4       서울 종로구 필운동 32-1\n",
      "5      서울 종로구 효자동 164-7\n",
      "6      서울 종로구 관훈동 155-2\n",
      "7       서울 종로구 부암동 97-5\n",
      "8        서울 종로구 청진동 246\n",
      "9     서울 종로구 삼청동 35-169\n",
      "10        서울 종로구 중학동 19\n",
      "11     서울 종로구 원서동 221-1\n",
      "12      서울 종로구 재동 84-14\n",
      "13       서울 종로구 내자동 196\n",
      "14     서울 종로구 명륜4가 94-2\n",
      "15     서울 종로구 신문로1가 115\n",
      "16     서울 종로구 통의동 35-21\n",
      "17      서울 종로구 신문로1가 25\n",
      "18     서울 종로구 이화동 9-443\n",
      "19       서울 종로구 익선동 144\n",
      "20     서울 종로구 부암동 254-2\n",
      "21    서울 종로구 명륜4가 154-2\n",
      "22        서울 종로구 안국동 83\n",
      "23     서울 종로구 사직동 262-4\n",
      "24        서울 종로구 누하동 22\n",
      "25        서울 종로구 돈의동 13\n",
      "26        서울 종로구 통의동 10\n",
      "27     서울 종로구 삼청동 28-21\n",
      "28      서울 종로구 삼청동 15-2\n",
      "29       서울 종로구 내자동 142\n",
      "Name: dong, dtype: object\n"
     ]
    }
   ],
   "source": [
    "df['dong'] = df.iloc[:, 3]\n",
    "print(df['dong'])"
   ]
  },
  {
   "cell_type": "code",
   "execution_count": 41,
   "id": "3e51cde7",
   "metadata": {},
   "outputs": [
    {
     "name": "stdout",
     "output_type": "stream",
     "text": [
      "0     종로구\n",
      "1     종로구\n",
      "2     종로구\n",
      "3     종로구\n",
      "4     종로구\n",
      "5     종로구\n",
      "6     종로구\n",
      "7     종로구\n",
      "8     종로구\n",
      "9     종로구\n",
      "10    종로구\n",
      "11    종로구\n",
      "12    종로구\n",
      "13    종로구\n",
      "14    종로구\n",
      "15    종로구\n",
      "16    종로구\n",
      "17    종로구\n",
      "18    종로구\n",
      "19    종로구\n",
      "20    종로구\n",
      "21    종로구\n",
      "22    종로구\n",
      "23    종로구\n",
      "24    종로구\n",
      "25    종로구\n",
      "26    종로구\n",
      "27    종로구\n",
      "28    종로구\n",
      "29    종로구\n",
      "Name: dong, dtype: object\n"
     ]
    }
   ],
   "source": [
    "df['dong'] = df['dong'].str.split(' ').str[1]\n",
    "print(df['dong'])"
   ]
  },
  {
   "cell_type": "code",
   "execution_count": 45,
   "id": "55f21deb",
   "metadata": {},
   "outputs": [
    {
     "name": "stdout",
     "output_type": "stream",
     "text": [
      "0     종로구\n",
      "1     종로구\n",
      "2     종로구\n",
      "3     종로구\n",
      "4     종로구\n",
      "5     종로구\n",
      "6     종로구\n",
      "7     종로구\n",
      "8     종로구\n",
      "9     종로구\n",
      "10    종로구\n",
      "11    종로구\n",
      "12    종로구\n",
      "13    종로구\n",
      "14    종로구\n",
      "15    종로구\n",
      "16    종로구\n",
      "17    종로구\n",
      "18    종로구\n",
      "19    종로구\n",
      "20    종로구\n",
      "21    종로구\n",
      "22    종로구\n",
      "23    종로구\n",
      "24    종로구\n",
      "25    종로구\n",
      "26    종로구\n",
      "27    종로구\n",
      "28    종로구\n",
      "29    종로구\n",
      "Name: naver_keyword, dtype: object\n"
     ]
    }
   ],
   "source": [
    "df['naver_keyword'] = df['dong'].iloc[0,]\n",
    "print(df['naver_keyword'])"
   ]
  },
  {
   "cell_type": "code",
   "execution_count": null,
   "id": "aa8ed30d",
   "metadata": {},
   "outputs": [],
   "source": []
  }
 ],
 "metadata": {
  "kernelspec": {
   "display_name": "Django Shell-Plus",
   "language": "python",
   "name": "django_extensions"
  },
  "language_info": {
   "codemirror_mode": {
    "name": "ipython",
    "version": 3
   },
   "file_extension": ".py",
   "mimetype": "text/x-python",
   "name": "python",
   "nbconvert_exporter": "python",
   "pygments_lexer": "ipython3",
   "version": "3.9.7"
  }
 },
 "nbformat": 4,
 "nbformat_minor": 5
}
