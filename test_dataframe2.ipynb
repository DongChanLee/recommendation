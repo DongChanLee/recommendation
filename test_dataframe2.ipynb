{
 "cells": [
  {
   "cell_type": "code",
   "execution_count": 11,
   "id": "e39105e0",
   "metadata": {},
   "outputs": [],
   "source": [
    "import os\n",
    "# import sys\n",
    "# sys.path.append(os.path.dirname(os.path.dirname(os.path.abspath(__file__))))\n",
    "import pandas as pd\n",
    "import numpy as np\n",
    "import json\n",
    "import time\n",
    "# from config.settings.base import CAFE, DATA_DIR, CSV_DATA_PATH\n",
    "from selenium import webdriver\n",
    "from selenium.webdriver.common.keys import Keys\n",
    "from selenium.webdriver.support.ui import WebDriverWait\n",
    "from selenium.webdriver.support import expected_conditions as EC\n",
    "from selenium.common.exceptions import TimeoutException\n",
    "from selenium.common.exceptions import NoSuchElementException\n",
    "from selenium.webdriver.common.by import By\n",
    "from selenium.webdriver.support.ui import Select\n",
    "import re\n",
    "from tqdm import *"
   ]
  },
  {
   "cell_type": "code",
   "execution_count": 12,
   "id": "fdd4ea30",
   "metadata": {},
   "outputs": [],
   "source": [
    "# df = pd.read_csv(os.path.join('/Users/dc/practice/recommendation/recomm_drf/data/csv/cafe', '종로구_카페 정보.csv'), sep=',')"
   ]
  },
  {
   "cell_type": "code",
   "execution_count": 13,
   "id": "8aa00442",
   "metadata": {},
   "outputs": [],
   "source": [
    "df = pd.read_csv(os.path.join('/Users/dc/study_dir/recommendation/data/csv/cafe', '종로구_카페 정보.csv'), sep=',')"
   ]
  },
  {
   "cell_type": "code",
   "execution_count": 14,
   "id": "c1983651",
   "metadata": {},
   "outputs": [],
   "source": [
    "url = 'https://m.place.naver.com/restaurant/1730708111'"
   ]
  },
  {
   "cell_type": "code",
   "execution_count": 21,
   "id": "d267b20c",
   "metadata": {},
   "outputs": [
    {
     "name": "stderr",
     "output_type": "stream",
     "text": [
      "/var/folders/sv/q7djt_49263gm3db04b4r4rr0000gn/T/ipykernel_42805/1954006528.py:10: DeprecationWarning: executable_path has been deprecated, please pass in a Service object\n",
      "  driver = webdriver.Chrome(chromedriver)\n",
      "/var/folders/sv/q7djt_49263gm3db04b4r4rr0000gn/T/ipykernel_42805/1954006528.py:13: DeprecationWarning: executable_path has been deprecated, please pass in a Service object\n",
      "  sub_driver = webdriver.Chrome(chromedriver)\n"
     ]
    }
   ],
   "source": [
    "naver_map_name_list = []\n",
    "blog_review_list = []\n",
    "blog_review_qty_list = []\n",
    "naver_map_star_review_stars_list = []\n",
    "naver_map_star_review_qty_list = []\n",
    "# chromedriver = '/Users/dc/practice/recommendation/recomm_drf/cafe/chromedriver'\n",
    "chromedriver = '/Users/dc/study_dir/recommendation/cafe/chromedriver'\n",
    "\n",
    "# 메인 드라이버 : 별점 등을 크롤링\n",
    "driver = webdriver.Chrome(chromedriver) \n",
    "\n",
    "# 서브 드라이버 : 리뷰 텍스트를 리뷰 탭 들어가서 크롤링\n",
    "sub_driver = webdriver.Chrome(chromedriver)\n",
    "\n",
    "driver.get(url)\n",
    "sub_driver.get(url+\"/review/visitor\")\n",
    "time.sleep(2)"
   ]
  },
  {
   "cell_type": "code",
   "execution_count": 22,
   "id": "49ef15f2",
   "metadata": {},
   "outputs": [
    {
     "name": "stdout",
     "output_type": "stream",
     "text": [
      "naver_map_type: 베이커리\n",
      "블로그 리뷰 수: 579\n",
      "별점 점수(2022년 종료 예정): 4.56\n",
      "별점 평가 수(2022년 종료 예정): 935개 평점 958명 참여\n",
      "방문자 평가 참여자수: 404\n",
      "방문자 호평 부분: [<selenium.webdriver.remote.webelement.WebElement (session=\"fed5e0bbbad811b86b3beffbceb0b310\", element=\"cb6df26e-38ac-4422-8c4e-9a5ea1c9a5cb\")>]\n",
      "===========================\n",
      "\"커피가 맛있어요\"\n",
      "이 키워드를 선택한 인원\n",
      "263\n",
      "\"빵이 맛있어요\"\n",
      "이 키워드를 선택한 인원\n",
      "254\n",
      "\"친절해요\"\n",
      "이 키워드를 선택한 인원\n",
      "84\n",
      "\"인테리어가 멋져요\"\n",
      "이 키워드를 선택한 인원\n",
      "75\n",
      "\"매장이 청결해요\"\n",
      "이 키워드를 선택한 인원\n",
      "71\n",
      "===========================\n",
      "\"커피가 맛있어요\"\n",
      "===========================\n",
      "커피가 맛있어요\n",
      "263\n"
     ]
    }
   ],
   "source": [
    "# driver\n",
    "\n",
    "# 네이버 지도의 유형 분류   \n",
    "naver_map_type = driver.find_element(By.CSS_SELECTOR, \"#_title > span.DJJvD\").text\n",
    "print(f'naver_map_type: {naver_map_type}')\n",
    "\n",
    "# 블로그 리뷰 수\n",
    "blog_review_qty = driver.find_element(By.CSS_SELECTOR, \"#app-root > div > div > div > div.place_section.OP4V8 > div.zD5Nm > div.dAsGb > span:nth-child(3) > a > em\").text\n",
    "print(f'블로그 리뷰 수: {blog_review_qty}')\n",
    "\n",
    "# 별점 점수(2022년 종료 예정) \n",
    "star_review_stars = driver.find_element(By.CSS_SELECTOR, \"#app-root > div > div > div > div.place_section.OP4V8 > div.zD5Nm > div.dAsGb > span.PXMot.LXIwF > em\").text\n",
    "print(f'별점 점수(2022년 종료 예정): {star_review_stars}')\n",
    "\n",
    "\n",
    "# sub_driver\n",
    "\n",
    "# 별점 평가 수(2022년 종료 예정)\n",
    "star_review_qty = sub_driver.find_element(By.XPATH, r'//*[@id=\"app-root\"]/div/div/div/div[6]/div[2]/div[1]/div/div/div[3]/span[2]').text\n",
    "#star_review_qty = sub_driver.find_element(By.XPATH, r'//*[@id=\"app-root\"]/div/div/div/div[6]/div[2]/div[1]/div/div/div[3]/span[2]').text\n",
    "print(f'별점 평가 수(2022년 종료 예정): {star_review_qty}')\n",
    "\n",
    "\n",
    "# 방문자 평가 참여자수\n",
    "\n",
    "visitor_review_qty = sub_driver.find_element(By.CSS_SELECTOR, \"#app-root > div > div > div > div:nth-child(6) > div:nth-child(2) > div.place_section.mdJ86 > div > div > div._Wmab > span\").text\n",
    "#visitor_review_qty = sub_driver.find_element(By.CSS_SELECTOR, \"#app-root > div > div > div > div:nth-child(7) > div:nth-child(2) > div.place_section.mdJ86 > div > div > div._Wmab > span\").text\n",
    "visitor_review_qty = re.sub('[\\(\\)]', '', visitor_review_qty)\n",
    "visitor_review_qty = re.sub('명 참여', '', visitor_review_qty)\n",
    "print(f'방문자 평가 참여자수: {visitor_review_qty}')\n",
    "\n",
    "# 방문자 호평 부분   # k2tmh   ,   uNsI9\n",
    "# visitor_eval_list = sub_driver.find_elements(By.CLASS_NAME, \"k2tmh\")\n",
    "# print(f'방문자 호평 부분: {visitor_eval_list}')\n",
    "\n",
    "\n",
    "visitor_eval_list = sub_driver.find_elements(By.CSS_SELECTOR, \"#app-root > div > div > div > div:nth-child(6) > div:nth-child(2) > div.place_section.mdJ86 > div > div > div.k2tmh > ul\")\n",
    "#visitor_eval_list = sub_driver.find_elements(By.CSS_SELECTOR, \"#app-root > div > div > div > div:nth-child(7) > div:nth-child(2) > div.place_section.mdJ86 > div > div > div.k2tmh > ul > li\")\n",
    "print(f'방문자 호평 부분: {visitor_eval_list}')\n",
    "\n",
    "for visitor_eval in visitor_eval_list[:10]:\n",
    "    print('===========================')\n",
    "    # 평가 전체 내역\n",
    "    evaluation = visitor_eval.text\n",
    "    print(evaluation)\n",
    "    print('===========================')\n",
    "    # 평가 전체 내역 분할\n",
    "    evaluation = evaluation.split('\\n')\n",
    "#     evaluation = re.sub('[\\\"]', '', evaluation)\n",
    "\n",
    "    # 리뷰태그 정보\n",
    "    print(evaluation[0])\n",
    "    print('===========================')\n",
    "    text_evaluation = re.sub('[\"]', '', evaluation[0])\n",
    "    print(text_evaluation)\n",
    "    # 리뷰태그 선택 count\n",
    "    choose_evaluation = evaluation[2]\n",
    "    print(choose_evaluation)\n",
    "   \n",
    "    \n",
    "    \n",
    "    \n",
    "\n",
    "# driver.quit()\n",
    "# sub_driver.quit()"
   ]
  },
  {
   "cell_type": "code",
   "execution_count": null,
   "id": "069d1acb",
   "metadata": {},
   "outputs": [],
   "source": []
  },
  {
   "cell_type": "code",
   "execution_count": null,
   "id": "71f86429",
   "metadata": {},
   "outputs": [],
   "source": []
  },
  {
   "cell_type": "code",
   "execution_count": 6,
   "id": "aa5b17d3",
   "metadata": {},
   "outputs": [],
   "source": [
    "# test\n",
    "dict_review ={'커피가 맛있어요' : [], '빵이 맛있어요' : [], '친절해요' : []}"
   ]
  },
  {
   "cell_type": "code",
   "execution_count": 7,
   "id": "2f401373",
   "metadata": {},
   "outputs": [],
   "source": [
    "visitor_review_list = ['커피가 맛있어요', '빵이 맛있어요', '친절해요', '인테리어가 멋져요', '매장이 청결해요', \n",
    "                       '뷰가 좋아요', '음료가 맛있어요', '사진이 잘 나와요', '특별한 메뉴가 있어요', '대화하기 좋아요', \n",
    "                       '가성비가 좋아요', '집중하기 좋아요', '화장실이 깨끗해요', '주차하기 편해요', '좌석이 편해요', \n",
    "                       '음식이 맛있어요', '매장이 넓어요', '단체모임 하기 좋아요', '특별한 날 가기 좋아요', '재료가 신선해요'\n",
    "                       '양이 많아요', '혼밥하기 좋아요']"
   ]
  },
  {
   "cell_type": "code",
   "execution_count": 8,
   "id": "e394c456",
   "metadata": {},
   "outputs": [],
   "source": [
    "str_tag = '빵이 맛있어요'"
   ]
  },
  {
   "cell_type": "code",
   "execution_count": 9,
   "id": "32b4239c",
   "metadata": {},
   "outputs": [],
   "source": [
    "agree_cnt = 10"
   ]
  },
  {
   "cell_type": "code",
   "execution_count": 10,
   "id": "bc5996ee",
   "metadata": {},
   "outputs": [
    {
     "name": "stdout",
     "output_type": "stream",
     "text": [
      "[10]\n"
     ]
    }
   ],
   "source": [
    "if str_tag in visitor_review_list:\n",
    "    dict_review[str_tag].append(agree_cnt)\n",
    "    print(dict_review[str_tag])"
   ]
  },
  {
   "cell_type": "code",
   "execution_count": 28,
   "id": "b0b5f62c",
   "metadata": {},
   "outputs": [],
   "source": [
    "# test2\n",
    "import re\n",
    "evaluation = '\"디저트가 맛있어요\"\\n이 키워드를 선택한 인원\\n3057\\n\"특별한 메뉴가 있어요\"\\n이 키워드를 선택한 인원\\n993\\n\"친절해요\"\\n이 키워드를 선택한 인원\\n857\\n\"매장이 청결해요\"\\n이 키워드를 선택한 인원\\n411\\n\"커피가 맛있어요\"\\n이 키워드를 선택한 인원\\n325'"
   ]
  },
  {
   "cell_type": "code",
   "execution_count": 29,
   "id": "21f8ce86",
   "metadata": {},
   "outputs": [],
   "source": [
    "visitor_review_list = ['커피가 맛있어요', '디저트가 맛있어요', '빵이 맛있어요', '친절해요', '인테리어가 멋져요', '매장이 청결해요', \n",
    "                       '뷰가 좋아요', '음료가 맛있어요', '사진이 잘 나와요', '특별한 메뉴가 있어요', '대화하기 좋아요', \n",
    "                       '가성비가 좋아요', '집중하기 좋아요', '화장실이 깨끗해요', '주차하기 편해요', '좌석이 편해요', \n",
    "                       '음식이 맛있어요', '매장이 넓어요', '단체모임 하기 좋아요', '특별한 날 가기 좋아요', '재료가 신선해요'\n",
    "                       '양이 많아요', '혼밥하기 좋아요']\n",
    "dict_review = {}\n",
    "for i in visitor_review_list:\n",
    "    dict_review[i] = []"
   ]
  },
  {
   "cell_type": "code",
   "execution_count": 30,
   "id": "c33ecd8d",
   "metadata": {},
   "outputs": [
    {
     "name": "stdout",
     "output_type": "stream",
     "text": [
      "{'커피가 맛있어요': [], '디저트가 맛있어요': [], '빵이 맛있어요': [], '친절해요': [], '인테리어가 멋져요': [], '매장이 청결해요': [], '뷰가 좋아요': [], '음료가 맛있어요': [], '사진이 잘 나와요': [], '특별한 메뉴가 있어요': [], '대화하기 좋아요': [], '가성비가 좋아요': [], '집중하기 좋아요': [], '화장실이 깨끗해요': [], '주차하기 편해요': [], '좌석이 편해요': [], '음식이 맛있어요': [], '매장이 넓어요': [], '단체모임 하기 좋아요': [], '특별한 날 가기 좋아요': [], '재료가 신선해요양이 많아요': [], '혼밥하기 좋아요': []}\n"
     ]
    }
   ],
   "source": [
    "print(dict_review)"
   ]
  },
  {
   "cell_type": "code",
   "execution_count": 31,
   "id": "d383a38d",
   "metadata": {},
   "outputs": [
    {
     "name": "stdout",
     "output_type": "stream",
     "text": [
      "single_eval: \"디저트가 맛있어요\"\n",
      "single_eval: 이 키워드를 선택한 인원\n",
      "single_eval: 3057\n",
      "single_eval: \"특별한 메뉴가 있어요\"\n",
      "single_eval: 이 키워드를 선택한 인원\n",
      "single_eval: 993\n",
      "single_eval: \"친절해요\"\n",
      "single_eval: 이 키워드를 선택한 인원\n",
      "single_eval: 857\n",
      "single_eval: \"매장이 청결해요\"\n",
      "single_eval: 이 키워드를 선택한 인원\n",
      "single_eval: 411\n",
      "single_eval: \"커피가 맛있어요\"\n",
      "single_eval: 이 키워드를 선택한 인원\n",
      "single_eval: 325\n"
     ]
    }
   ],
   "source": [
    "evaluation = evaluation.split('\\n')\n",
    "for single_eval in evaluation:\n",
    "    print(f'single_eval: {single_eval}')"
   ]
  },
  {
   "cell_type": "code",
   "execution_count": 32,
   "id": "4e9d647b",
   "metadata": {},
   "outputs": [
    {
     "name": "stdout",
     "output_type": "stream",
     "text": [
      "\"디저트가 맛있어요\"\n",
      "========================================\n",
      "디저트가 맛있어요\n",
      "리뷰태그 공감수: 3057\n",
      "========================================\n",
      "\"특별한 메뉴가 있어요\"\n",
      "========================================\n",
      "특별한 메뉴가 있어요\n",
      "리뷰태그 공감수: 993\n",
      "========================================\n",
      "\"친절해요\"\n",
      "========================================\n",
      "친절해요\n",
      "리뷰태그 공감수: 857\n",
      "========================================\n",
      "\"매장이 청결해요\"\n",
      "========================================\n",
      "매장이 청결해요\n",
      "리뷰태그 공감수: 411\n",
      "========================================\n",
      "\"커피가 맛있어요\"\n",
      "========================================\n",
      "커피가 맛있어요\n",
      "리뷰태그 공감수: 325\n",
      "========================================\n"
     ]
    }
   ],
   "source": [
    "exist_review = []\n",
    "for i in range(0, 14, 3):\n",
    "    print(evaluation[i])\n",
    "    text_evaluation = re.sub('[\"]', '', evaluation[i])\n",
    "    print('========'*5)\n",
    "    print(text_evaluation)\n",
    "    \n",
    "    choose_evaluation = evaluation[i+2]\n",
    "    print(f'리뷰태그 공감수: {choose_evaluation}')\n",
    "    print('========'*5)\n",
    "    \n",
    "#     # 추가 테스트\n",
    "#     for review in visitor_review_list:\n",
    "#         print(review)\n",
    "#         if review == text_evaluation:\n",
    "# #         #if text_evaluation in visitor_review_list:\n",
    "#             dict_review[text_evaluation].append(choose_evaluation)\n",
    "#         else:\n",
    "#             dict_review[review].append('')\n",
    "            \n",
    "        # 추가 테스트\n",
    "\n",
    "    if text_evaluation in visitor_review_list:\n",
    "        dict_review[text_evaluation].append(choose_evaluation)\n",
    "        exist_review.append(text_evaluation)\n",
    "        \n",
    "for review in visitor_review_list:\n",
    "    if review not in exist_review:\n",
    "        dict_review[review].append('')"
   ]
  },
  {
   "cell_type": "code",
   "execution_count": 33,
   "id": "32a48fae",
   "metadata": {},
   "outputs": [
    {
     "name": "stdout",
     "output_type": "stream",
     "text": [
      "{'커피가 맛있어요': ['325'], '디저트가 맛있어요': ['3057'], '빵이 맛있어요': [''], '친절해요': ['857'], '인테리어가 멋져요': [''], '매장이 청결해요': ['411'], '뷰가 좋아요': [''], '음료가 맛있어요': [''], '사진이 잘 나와요': [''], '특별한 메뉴가 있어요': ['993'], '대화하기 좋아요': [''], '가성비가 좋아요': [''], '집중하기 좋아요': [''], '화장실이 깨끗해요': [''], '주차하기 편해요': [''], '좌석이 편해요': [''], '음식이 맛있어요': [''], '매장이 넓어요': [''], '단체모임 하기 좋아요': [''], '특별한 날 가기 좋아요': [''], '재료가 신선해요양이 많아요': [''], '혼밥하기 좋아요': ['']}\n"
     ]
    }
   ],
   "source": [
    "print(dict_review)"
   ]
  },
  {
   "cell_type": "code",
   "execution_count": null,
   "id": "91822992",
   "metadata": {},
   "outputs": [],
   "source": []
  },
  {
   "cell_type": "code",
   "execution_count": null,
   "id": "c71b6015",
   "metadata": {},
   "outputs": [],
   "source": []
  }
 ],
 "metadata": {
  "kernelspec": {
   "display_name": "Django Shell-Plus",
   "language": "python",
   "name": "django_extensions"
  },
  "language_info": {
   "codemirror_mode": {
    "name": "ipython",
    "version": 3
   },
   "file_extension": ".py",
   "mimetype": "text/x-python",
   "name": "python",
   "nbconvert_exporter": "python",
   "pygments_lexer": "ipython3",
   "version": "3.9.12"
  }
 },
 "nbformat": 4,
 "nbformat_minor": 5
}
